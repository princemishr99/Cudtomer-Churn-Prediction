{
 "cells": [
  {
   "cell_type": "code",
   "execution_count": 1,
   "id": "673c5b17-8a89-4ae8-bafc-dd9d9a34c0a9",
   "metadata": {},
   "outputs": [],
   "source": [
    "import pandas as pd\n",
    "from matplotlib import pyplot as plt\n",
    "import numpy as np\n",
    "import seaborn as sn\n",
    "from sklearn.preprocessing import StandardScaler, MinMaxScaler\n",
    "from sklearn.model_selection import train_test_split\n",
    "from sklearn.metrics import confusion_matrix, classification_report, accuracy_score, precision_score, recall_score\n",
    "import tensorflow as tf\n",
    "from tensorflow import keras\n",
    "from sklearn.linear_model import LogisticRegression\n",
    "from sklearn.ensemble import RandomForestClassifier"
   ]
  },
  {
   "cell_type": "code",
   "execution_count": 2,
   "id": "f40b040d-9145-4387-9a7c-777310af5380",
   "metadata": {},
   "outputs": [],
   "source": [
    "%matplotlib inline"
   ]
  },
  {
   "cell_type": "code",
   "execution_count": 3,
   "id": "94ec8af7-0dd2-4ab9-84fa-f53127404fdb",
   "metadata": {},
   "outputs": [],
   "source": [
    "df = pd.read_csv(\"Churn_Modelling.csv\")"
   ]
  },
  {
   "cell_type": "code",
   "execution_count": 4,
   "id": "5ecb15d4-0f75-42b4-a531-2fd8965711a6",
   "metadata": {},
   "outputs": [
    {
     "name": "stdout",
     "output_type": "stream",
     "text": [
      "      RowNumber  CustomerId        Surname  CreditScore Geography  Gender  \\\n",
      "6327       6328    15793856        Abdulov          667     Spain  Female   \n",
      "9704       9705    15759872             L?          625    France    Male   \n",
      "4505       4506    15628583  Iweobiegbunam          709    France  Female   \n",
      "4903       4904    15628530          Booth          694    France    Male   \n",
      "722         723    15736879         Obinna          669    France    Male   \n",
      "\n",
      "      Age  Tenure    Balance  NumOfProducts  HasCrCard  IsActiveMember  \\\n",
      "6327   36       3  121542.57              2          1               1   \n",
      "9704   22       9       0.00              2          1               0   \n",
      "4505   30       5       0.00              2          0               1   \n",
      "4903   42       3  156864.20              2          0               0   \n",
      "722    23       1       0.00              2          0               0   \n",
      "\n",
      "      EstimatedSalary  Exited  \n",
      "6327        186841.71       0  \n",
      "9704        157072.91       0  \n",
      "4505        161388.22       0  \n",
      "4903         88890.75       0  \n",
      "722          66088.83       0  \n"
     ]
    }
   ],
   "source": [
    "print(df.sample(5))"
   ]
  },
  {
   "cell_type": "code",
   "execution_count": 5,
   "id": "6994426d-59be-4b09-a55e-995ed544d6fc",
   "metadata": {},
   "outputs": [
    {
     "name": "stdout",
     "output_type": "stream",
     "text": [
      "CustomerId column dropped successfully.\n"
     ]
    }
   ],
   "source": [
    "if 'CustomerId' in df.columns:\n",
    "    df.drop('CustomerId', axis='columns', inplace=True)\n",
    "    print(\"CustomerId column dropped successfully.\")\n",
    "else:\n",
    "    print(\"CustomerId column not found, likely already dropped in a previous run.\")"
   ]
  },
  {
   "cell_type": "code",
   "execution_count": 6,
   "id": "462e23b2-4409-45a1-8622-8bea1a68af4b",
   "metadata": {},
   "outputs": [
    {
     "name": "stdout",
     "output_type": "stream",
     "text": [
      "RowNumber            int64\n",
      "Surname             object\n",
      "CreditScore          int64\n",
      "Geography           object\n",
      "Gender              object\n",
      "Age                  int64\n",
      "Tenure               int64\n",
      "Balance            float64\n",
      "NumOfProducts        int64\n",
      "HasCrCard            int64\n",
      "IsActiveMember       int64\n",
      "EstimatedSalary    float64\n",
      "Exited               int64\n",
      "dtype: object\n"
     ]
    }
   ],
   "source": [
    "print(df.dtypes)"
   ]
  },
  {
   "cell_type": "code",
   "execution_count": 7,
   "id": "6fb87bdf-11d5-4cd0-8851-c52503bbf2a8",
   "metadata": {},
   "outputs": [
    {
     "name": "stdout",
     "output_type": "stream",
     "text": [
      "[1 0 1 ... 1 1 0]\n"
     ]
    }
   ],
   "source": [
    "print(df.Exited.values)"
   ]
  },
  {
   "cell_type": "code",
   "execution_count": 8,
   "id": "3dd80c37-795a-495f-891f-0b65f8b3399a",
   "metadata": {},
   "outputs": [
    {
     "name": "stdout",
     "output_type": "stream",
     "text": [
      "[101348.88 112542.58 113931.57  93826.63  79084.1  149756.71  10062.8\n",
      " 119346.88  74940.5   71725.73]\n"
     ]
    }
   ],
   "source": [
    "print(df.EstimatedSalary.values[:10])"
   ]
  },
  {
   "cell_type": "markdown",
   "id": "7742d118-2f96-4bac-a63d-980428ebd038",
   "metadata": {},
   "source": [
    "# Checking for Non Numeric Values"
   ]
  },
  {
   "cell_type": "code",
   "execution_count": 9,
   "id": "a0317308-8440-4ac9-b41f-3c46bc9c0eca",
   "metadata": {},
   "outputs": [
    {
     "name": "stdout",
     "output_type": "stream",
     "text": [
      "0\n",
      "Rows with non-numeric 'Exited' values (if any):\n",
      "Empty DataFrame\n",
      "Columns: [RowNumber, Surname, CreditScore, Geography, Gender, Age, Tenure, Balance, NumOfProducts, HasCrCard, IsActiveMember, EstimatedSalary, Exited]\n",
      "Index: []\n"
     ]
    }
   ],
   "source": [
    "print(pd.to_numeric(df.Exited, errors='coerce').isnull().sum())\n",
    "print(\"Rows with non-numeric 'Exited' values (if any):\")\n",
    "print(df[pd.to_numeric(df.Exited, errors='coerce').isnull()])"
   ]
  },
  {
   "cell_type": "code",
   "execution_count": 10,
   "id": "38f36874-a4c9-4594-9bd6-4e4bd1b455d2",
   "metadata": {},
   "outputs": [
    {
     "data": {
      "text/plain": [
       "(10000, 13)"
      ]
     },
     "execution_count": 10,
     "metadata": {},
     "output_type": "execute_result"
    }
   ],
   "source": [
    "df.shape"
   ]
  },
  {
   "cell_type": "code",
   "execution_count": 11,
   "id": "938eed25-7d90-459e-8c74-ed36dc6ef613",
   "metadata": {},
   "outputs": [
    {
     "name": "stdout",
     "output_type": "stream",
     "text": [
      "0\n"
     ]
    }
   ],
   "source": [
    "print(df.iloc[488]['Exited'])"
   ]
  },
  {
   "cell_type": "code",
   "execution_count": 12,
   "id": "ee38982e-c4db-466a-9519-0ab76c418e67",
   "metadata": {},
   "outputs": [],
   "source": [
    "df1 = df[df.Exited == 1].copy()"
   ]
  },
  {
   "cell_type": "code",
   "execution_count": 13,
   "id": "558b1396-225e-4c4e-964d-c53c058bd84d",
   "metadata": {},
   "outputs": [
    {
     "data": {
      "text/plain": [
       "(10000, 13)"
      ]
     },
     "execution_count": 13,
     "metadata": {},
     "output_type": "execute_result"
    }
   ],
   "source": [
    "df.shape"
   ]
  },
  {
   "cell_type": "code",
   "execution_count": 14,
   "id": "ab3c49c7-da62-4584-a67d-6b5f547eaf39",
   "metadata": {},
   "outputs": [
    {
     "data": {
      "text/plain": [
       "RowNumber            int64\n",
       "Surname             object\n",
       "CreditScore          int64\n",
       "Geography           object\n",
       "Gender              object\n",
       "Age                  int64\n",
       "Tenure               int64\n",
       "Balance            float64\n",
       "NumOfProducts        int64\n",
       "HasCrCard            int64\n",
       "IsActiveMember       int64\n",
       "EstimatedSalary    float64\n",
       "Exited               int64\n",
       "dtype: object"
      ]
     },
     "execution_count": 14,
     "metadata": {},
     "output_type": "execute_result"
    }
   ],
   "source": [
    "df1.dtypes"
   ]
  },
  {
   "cell_type": "code",
   "execution_count": 15,
   "id": "65dc7772-87fe-47f6-b4ae-bf78f0296c95",
   "metadata": {},
   "outputs": [],
   "source": [
    "df1.Exited = pd.to_numeric(df1.Exited)"
   ]
  },
  {
   "cell_type": "code",
   "execution_count": 16,
   "id": "9ec8659e-7a77-4e32-8ee9-10e8a9bf0397",
   "metadata": {},
   "outputs": [
    {
     "name": "stdout",
     "output_type": "stream",
     "text": [
      "int64\n"
     ]
    }
   ],
   "source": [
    "print(df1.Exited.dtypes)"
   ]
  },
  {
   "cell_type": "code",
   "execution_count": 17,
   "id": "cad4cd69-d0f7-4072-aa90-3d054dd356c6",
   "metadata": {},
   "outputs": [
    {
     "name": "stdout",
     "output_type": "stream",
     "text": [
      "No duplicate rows found.\n",
      "DataFrame shape after duplicate removal: (10000, 13)\n"
     ]
    }
   ],
   "source": [
    "initial_rows = df.shape[0]\n",
    "df.drop_duplicates(inplace=True)\n",
    "rows_after_dropping_duplicates = df.shape[0]\n",
    "\n",
    "if initial_rows > rows_after_dropping_duplicates:\n",
    "    print(f\"Removed {initial_rows - rows_after_dropping_duplicates} duplicate rows.\")\n",
    "else:\n",
    "    print(\"No duplicate rows found.\")\n",
    "print(f\"DataFrame shape after duplicate removal: {df.shape}\")"
   ]
  },
  {
   "cell_type": "code",
   "execution_count": 18,
   "id": "208c2e6b-0062-4376-880f-3b542041c463",
   "metadata": {},
   "outputs": [
    {
     "data": {
      "image/png": "[encoded data removed]",
      "text/plain": [
       "<Figure size 1000x600 with 1 Axes>"
      ]
     },
     "metadata": {},
     "output_type": "display_data"
    }
   ],
   "source": [
    "tenure_exited_no = df[df.Exited == 0].Tenure\n",
    "tenure_exited_yes = df[df.Exited == 1].Tenure\n",
    "\n",
    "plt.figure(figsize=(10, 6))\n",
    "plt.xlabel(\"Tenure (Years)\")\n",
    "plt.ylabel(\"Number of Customers\")\n",
    "plt.title(\"Customer Churn Prediction Visualization (Tenure)\")\n",
    "plt.hist([tenure_exited_yes, tenure_exited_no], color=['red','blue'], label=['Exited=Yes','Exited=No'], bins=10, rwidth=0.9)\n",
    "plt.legend()\n",
    "plt.grid(axis='y', alpha=0.75)\n",
    "plt.show()"
   ]
  },
  {
   "cell_type": "code",
   "execution_count": 19,
   "id": "8c22b69a-2b6e-4b3e-9d39-874def7dc5cc",
   "metadata": {},
   "outputs": [
    {
     "data": {
      "image/png": "[encoded data removed]",
      "text/plain": [
       "<Figure size 1000x600 with 1 Axes>"
      ]
     },
     "metadata": {},
     "output_type": "display_data"
    }
   ],
   "source": [
    "mc_exited_no = df[df.Exited == 0].EstimatedSalary\n",
    "mc_exited_yes = df[df.Exited == 1].EstimatedSalary\n",
    "\n",
    "plt.figure(figsize=(10, 6))\n",
    "plt.xlabel(\"Estimated Salary\")\n",
    "plt.ylabel(\"Number of Customers\")\n",
    "plt.title(\"Customer Churn Prediction Visualization (Estimated Salary)\")\n",
    "plt.hist([mc_exited_yes, mc_exited_no], color=['red','blue'], label=['Exited=Yes','Exited=No'], bins=20, rwidth=0.9)\n",
    "plt.legend()\n",
    "plt.grid(axis='y', alpha=0.75)\n",
    "plt.show()"
   ]
  },
  {
   "cell_type": "code",
   "execution_count": 20,
   "id": "04969afd-6fee-4f8f-b2b7-e6008c6d3ef2",
   "metadata": {},
   "outputs": [
    {
     "name": "stdout",
     "output_type": "stream",
     "text": [
      "--- Unique values in object (categorical) columns ---\n",
      "Surname : ['Hargrave' 'Hill' 'Onio' ... 'Kashiwagi' 'Aldridge' 'Burbidge']\n",
      "Geography : ['France' 'Spain' 'Germany']\n",
      "Gender : ['Female' 'Male']\n"
     ]
    }
   ],
   "source": [
    "def print_unique_col_values(df_to_check):\n",
    "    print(\"--- Unique values in object (categorical) columns ---\")\n",
    "    for column in df_to_check:\n",
    "        if df_to_check[column].dtype == 'object':\n",
    "            print(f'{column} : {df_to_check[column].unique()}')\n",
    "\n",
    "print_unique_col_values(df)"
   ]
  },
  {
   "cell_type": "code",
   "execution_count": 21,
   "id": "c538786d-9c60-4d9a-bbb9-77a78fa6f4b5",
   "metadata": {},
   "outputs": [
    {
     "name": "stdout",
     "output_type": "stream",
     "text": [
      "'Surname' column dropped successfully.\n",
      "'RowNumber' column dropped successfully.\n",
      "\n",
      "Columns in df after dropping 'Surname' and 'RowNumber':\n",
      "Index(['CreditScore', 'Geography', 'Gender', 'Age', 'Tenure', 'Balance',\n",
      "       'NumOfProducts', 'HasCrCard', 'IsActiveMember', 'EstimatedSalary',\n",
      "       'Exited'],\n",
      "      dtype='object')\n"
     ]
    }
   ],
   "source": [
    "if 'Surname' in df.columns:\n",
    "    df.drop('Surname', axis='columns', inplace=True)\n",
    "    print(\"'Surname' column dropped successfully.\")\n",
    "else:\n",
    "    print(\"'Surname' column not found, perhaps already dropped.\")\n",
    "\n",
    "if 'RowNumber' in df.columns:\n",
    "    df.drop('RowNumber', axis='columns', inplace=True)\n",
    "    print(\"'RowNumber' column dropped successfully.\")\n",
    "else:\n",
    "    print(\"'RowNumber' column not found, perhaps already dropped.\")\n",
    "\n",
    "print(\"\\nColumns in df after dropping 'Surname' and 'RowNumber':\")\n",
    "print(df.columns)"
   ]
  },
  {
   "cell_type": "code",
   "execution_count": 22,
   "id": "185562a6-1aa5-4a46-bd9f-aad49171961f",
   "metadata": {},
   "outputs": [
    {
     "name": "stdout",
     "output_type": "stream",
     "text": [
      "Unique values in 'Gender' after replacement:\n",
      "['F' 'M']\n"
     ]
    },
    {
     "name": "stderr",
     "output_type": "stream",
     "text": [
      "C:\\Users\\PC\\AppData\\Local\\Temp\\ipykernel_13384\\1959494644.py:1: FutureWarning: A value is trying to be set on a copy of a DataFrame or Series through chained assignment using an inplace method.\n",
      "The behavior will change in pandas 3.0. This inplace method will never work because the intermediate object on which we are setting values always behaves as a copy.\n",
      "\n",
      "For example, when doing 'df[col].method(value, inplace=True)', try using 'df.method({col: value}, inplace=True)' or df[col] = df[col].method(value) instead, to perform the operation inplace on the original object.\n",
      "\n",
      "\n",
      "  df['Gender'].replace({'Female': 'F', 'Male': 'M'}, inplace=True)\n"
     ]
    }
   ],
   "source": [
    "df['Gender'].replace({'Female': 'F', 'Male': 'M'}, inplace=True)\n",
    "print(\"Unique values in 'Gender' after replacement:\")\n",
    "print(df['Gender'].unique())"
   ]
  },
  {
   "cell_type": "code",
   "execution_count": 23,
   "id": "810ea508-18dc-4d1f-ba9f-741f064b3b03",
   "metadata": {},
   "outputs": [
    {
     "name": "stdout",
     "output_type": "stream",
     "text": [
      "\n",
      "DataFrame columns and dtypes after one-hot encoding:\n",
      "CreditScore            int64\n",
      "Age                    int64\n",
      "Tenure                 int64\n",
      "Balance              float64\n",
      "NumOfProducts          int64\n",
      "HasCrCard              int64\n",
      "IsActiveMember         int64\n",
      "EstimatedSalary      float64\n",
      "Exited                 int64\n",
      "Gender_M               int32\n",
      "Geography_Germany      int32\n",
      "Geography_Spain        int32\n",
      "dtype: object\n",
      "\n",
      "First 5 rows of the DataFrame after one-hot encoding:\n",
      "   CreditScore  Age  Tenure    Balance  NumOfProducts  HasCrCard  \\\n",
      "0          619   42       2       0.00              1          1   \n",
      "1          608   41       1   83807.86              1          0   \n",
      "2          502   42       8  159660.80              3          1   \n",
      "3          699   39       1       0.00              2          0   \n",
      "4          850   43       2  125510.82              1          1   \n",
      "\n",
      "   IsActiveMember  EstimatedSalary  Exited  Gender_M  Geography_Germany  \\\n",
      "0               1        101348.88       1         0                  0   \n",
      "1               1        112542.58       0         0                  0   \n",
      "2               0        113931.57       1         0                  0   \n",
      "3               0         93826.63       0         0                  0   \n",
      "4               1         79084.10       0         0                  0   \n",
      "\n",
      "   Geography_Spain  \n",
      "0                0  \n",
      "1                1  \n",
      "2                0  \n",
      "3                0  \n",
      "4                1  \n"
     ]
    }
   ],
   "source": [
    "df_encoded = pd.get_dummies(df, columns=['Gender', 'Geography'], drop_first=True, dtype=int)\n",
    "\n",
    "print(\"\\nDataFrame columns and dtypes after one-hot encoding:\")\n",
    "print(df_encoded.dtypes)\n",
    "print(\"\\nFirst 5 rows of the DataFrame after one-hot encoding:\")\n",
    "print(df_encoded.head())"
   ]
  },
  {
   "cell_type": "code",
   "execution_count": 24,
   "id": "81f73bfd-24b9-40fa-8e97-552f2b268418",
   "metadata": {},
   "outputs": [
    {
     "name": "stdout",
     "output_type": "stream",
     "text": [
      "CreditScore            int64\n",
      "Age                    int64\n",
      "Tenure                 int64\n",
      "Balance              float64\n",
      "NumOfProducts          int64\n",
      "HasCrCard              int64\n",
      "IsActiveMember         int64\n",
      "EstimatedSalary      float64\n",
      "Exited                 int64\n",
      "Gender_M               int32\n",
      "Geography_Germany      int32\n",
      "Geography_Spain        int32\n",
      "dtype: object\n"
     ]
    }
   ],
   "source": [
    "print(df_encoded.dtypes)"
   ]
  },
  {
   "cell_type": "code",
   "execution_count": 25,
   "id": "a2eef3bb-bca6-4d18-92f3-d67e121e110a",
   "metadata": {},
   "outputs": [],
   "source": [
    "X = df_encoded.drop('Exited', axis='columns')\n",
    "y = df_encoded['Exited']"
   ]
  },
  {
   "cell_type": "code",
   "execution_count": 26,
   "id": "17af9ab2-00c6-40e3-9e4d-4c3899a4594d",
   "metadata": {},
   "outputs": [
    {
     "name": "stdout",
     "output_type": "stream",
     "text": [
      "First 5 rows of features (X) AFTER Standard Scaling:\n",
      "   CreditScore       Age    Tenure   Balance  NumOfProducts  HasCrCard  \\\n",
      "0    -0.326221  0.293517 -1.041760 -1.225848      -0.911583   0.646092   \n",
      "1    -0.440036  0.198164 -1.387538  0.117350      -0.911583  -1.547768   \n",
      "2    -1.536794  0.293517  1.032908  1.333053       2.527057   0.646092   \n",
      "3     0.501521  0.007457 -1.387538 -1.225848       0.807737  -1.547768   \n",
      "4     2.063884  0.388871 -1.041760  0.785728      -0.911583   0.646092   \n",
      "\n",
      "   IsActiveMember  EstimatedSalary  Gender_M  Geography_Germany  \\\n",
      "0        0.970243         0.021886 -1.095988          -0.578736   \n",
      "1        0.970243         0.216534 -1.095988          -0.578736   \n",
      "2       -1.030670         0.240687 -1.095988          -0.578736   \n",
      "3       -1.030670        -0.108918 -1.095988          -0.578736   \n",
      "4        0.970243        -0.365276 -1.095988          -0.578736   \n",
      "\n",
      "   Geography_Spain  \n",
      "0        -0.573809  \n",
      "1         1.742740  \n",
      "2        -0.573809  \n",
      "3        -0.573809  \n",
      "4         1.742740  \n",
      "\n",
      "Description of features AFTER Standard Scaling (note mean close to 0, std close to 1):\n",
      "        CreditScore           Age        Tenure       Balance  NumOfProducts  \\\n",
      "count  1.000000e+04  1.000000e+04  1.000000e+04  1.000000e+04   1.000000e+04   \n",
      "mean  -4.824585e-16  2.318146e-16 -1.078249e-16 -6.252776e-17   1.634248e-17   \n",
      "std    1.000050e+00  1.000050e+00  1.000050e+00  1.000050e+00   1.000050e+00   \n",
      "min   -3.109504e+00 -1.994969e+00 -1.733315e+00 -1.225848e+00  -9.115835e-01   \n",
      "25%   -6.883586e-01 -6.600185e-01 -6.959818e-01 -1.225848e+00  -9.115835e-01   \n",
      "50%    1.522218e-02 -1.832505e-01 -4.425957e-03  3.319639e-01  -9.115835e-01   \n",
      "75%    6.981094e-01  4.842246e-01  6.871299e-01  8.199205e-01   8.077366e-01   \n",
      "max    2.063884e+00  5.061197e+00  1.724464e+00  2.795323e+00   4.246377e+00   \n",
      "\n",
      "          HasCrCard  IsActiveMember  EstimatedSalary      Gender_M  \\\n",
      "count  1.000000e+04    1.000000e+04     1.000000e+04  1.000000e+04   \n",
      "mean  -5.258016e-17   -7.389644e-17    -2.877698e-17  1.314504e-16   \n",
      "std    1.000050e+00    1.000050e+00     1.000050e+00  1.000050e+00   \n",
      "min   -1.547768e+00   -1.030670e+00    -1.740268e+00 -1.095988e+00   \n",
      "25%   -1.547768e+00   -1.030670e+00    -8.535935e-01 -1.095988e+00   \n",
      "50%    6.460917e-01    9.702426e-01     1.802807e-03  9.124191e-01   \n",
      "75%    6.460917e-01    9.702426e-01     8.572431e-01  9.124191e-01   \n",
      "max    6.460917e-01    9.702426e-01     1.737200e+00  9.124191e-01   \n",
      "\n",
      "       Geography_Germany  Geography_Spain  \n",
      "count       1.000000e+04     1.000000e+04  \n",
      "mean       -7.069900e-17    -4.689582e-17  \n",
      "std         1.000050e+00     1.000050e+00  \n",
      "min        -5.787359e-01    -5.738092e-01  \n",
      "25%        -5.787359e-01    -5.738092e-01  \n",
      "50%        -5.787359e-01    -5.738092e-01  \n",
      "75%         1.727904e+00    -5.738092e-01  \n",
      "max         1.727904e+00     1.742740e+00  \n"
     ]
    }
   ],
   "source": [
    "scaler_standard = StandardScaler()\n",
    "X_scaled_standard = scaler_standard.fit_transform(X)\n",
    "X_scaled_standard_df = pd.DataFrame(X_scaled_standard, columns=X.columns)\n",
    "\n",
    "print(\"First 5 rows of features (X) AFTER Standard Scaling:\")\n",
    "print(X_scaled_standard_df.head())\n",
    "print(\"\\nDescription of features AFTER Standard Scaling (note mean close to 0, std close to 1):\")\n",
    "print(X_scaled_standard_df.describe())"
   ]
  },
  {
   "cell_type": "code",
   "execution_count": 27,
   "id": "673bf617-704a-4310-b86f-18fcb2390a1d",
   "metadata": {},
   "outputs": [
    {
     "name": "stdout",
     "output_type": "stream",
     "text": [
      "First 5 rows of features (X) AFTER Min-Max Scaling:\n",
      "   CreditScore       Age  Tenure   Balance  NumOfProducts  HasCrCard  \\\n",
      "0        0.538  0.324324     0.2  0.000000       0.000000        1.0   \n",
      "1        0.516  0.310811     0.1  0.334031       0.000000        0.0   \n",
      "2        0.304  0.324324     0.8  0.636357       0.666667        1.0   \n",
      "3        0.698  0.283784     0.1  0.000000       0.333333        0.0   \n",
      "4        1.000  0.337838     0.2  0.500246       0.000000        1.0   \n",
      "\n",
      "   IsActiveMember  EstimatedSalary  Gender_M  Geography_Germany  \\\n",
      "0             1.0         0.506735       0.0                0.0   \n",
      "1             1.0         0.562709       0.0                0.0   \n",
      "2             0.0         0.569654       0.0                0.0   \n",
      "3             0.0         0.469120       0.0                0.0   \n",
      "4             1.0         0.395400       0.0                0.0   \n",
      "\n",
      "   Geography_Spain  \n",
      "0              0.0  \n",
      "1              1.0  \n",
      "2              0.0  \n",
      "3              0.0  \n",
      "4              1.0  \n",
      "\n",
      "Description of features AFTER Min-Max Scaling (note min=0, max=1):\n",
      "        CreditScore           Age        Tenure       Balance  NumOfProducts  \\\n",
      "count  10000.000000  10000.000000  10000.000000  10000.000000   10000.000000   \n",
      "mean       0.601058      0.282727      0.501280      0.304848       0.176733   \n",
      "std        0.193307      0.141727      0.289217      0.248696       0.193885   \n",
      "min        0.000000      0.000000      0.000000      0.000000       0.000000   \n",
      "25%        0.468000      0.189189      0.300000      0.000000       0.000000   \n",
      "50%        0.604000      0.256757      0.500000      0.387402       0.000000   \n",
      "75%        0.736000      0.351351      0.700000      0.508749       0.333333   \n",
      "max        1.000000      1.000000      1.000000      1.000000       1.000000   \n",
      "\n",
      "         HasCrCard  IsActiveMember  EstimatedSalary      Gender_M  \\\n",
      "count  10000.00000    10000.000000     10000.000000  10000.000000   \n",
      "mean       0.70550        0.515100         0.500441      0.545700   \n",
      "std        0.45584        0.499797         0.287580      0.497932   \n",
      "min        0.00000        0.000000         0.000000      0.000000   \n",
      "25%        0.00000        0.000000         0.254977      0.000000   \n",
      "50%        1.00000        1.000000         0.500960      1.000000   \n",
      "75%        1.00000        1.000000         0.746955      1.000000   \n",
      "max        1.00000        1.000000         1.000000      1.000000   \n",
      "\n",
      "       Geography_Germany  Geography_Spain  \n",
      "count       10000.000000     10000.000000  \n",
      "mean            0.250900         0.247700  \n",
      "std             0.433553         0.431698  \n",
      "min             0.000000         0.000000  \n",
      "25%             0.000000         0.000000  \n",
      "50%             0.000000         0.000000  \n",
      "75%             1.000000         0.000000  \n",
      "max             1.000000         1.000000  \n"
     ]
    }
   ],
   "source": [
    "scaler_minmax = MinMaxScaler()\n",
    "X_scaled_minmax = scaler_minmax.fit_transform(X)\n",
    "X_scaled_minmax_df = pd.DataFrame(X_scaled_minmax, columns=X.columns)\n",
    "\n",
    "print(\"First 5 rows of features (X) AFTER Min-Max Scaling:\")\n",
    "print(X_scaled_minmax_df.head())\n",
    "print(\"\\nDescription of features AFTER Min-Max Scaling (note min=0, max=1):\")\n",
    "print(X_scaled_minmax_df.describe())"
   ]
  },
  {
   "cell_type": "code",
   "execution_count": 28,
   "id": "50324999-5326-4904-aa6b-95a85aaedcad",
   "metadata": {},
   "outputs": [],
   "source": [
    "X_train, X_test, y_train, y_test = train_test_split(X_scaled_minmax_df, y, test_size=0.2, random_state=42, stratify=y)"
   ]
  },
  {
   "cell_type": "code",
   "execution_count": 29,
   "id": "3b8f0226-856c-411c-9669-9f3c67808230",
   "metadata": {},
   "outputs": [
    {
     "data": {
      "text/plain": [
       "(8000, 11)"
      ]
     },
     "execution_count": 29,
     "metadata": {},
     "output_type": "execute_result"
    }
   ],
   "source": [
    "X_train.shape"
   ]
  },
  {
   "cell_type": "code",
   "execution_count": 30,
   "id": "882650ad-b75a-4a1f-8da7-e6b422aa7ca3",
   "metadata": {},
   "outputs": [
    {
     "data": {
      "text/plain": [
       "(2000, 11)"
      ]
     },
     "execution_count": 30,
     "metadata": {},
     "output_type": "execute_result"
    }
   ],
   "source": [
    "X_test.shape"
   ]
  },
  {
   "cell_type": "code",
   "execution_count": 31,
   "id": "dd913636-c66e-4558-bedc-65744ee44458",
   "metadata": {},
   "outputs": [
    {
     "data": {
      "text/plain": [
       "(8000,)"
      ]
     },
     "execution_count": 31,
     "metadata": {},
     "output_type": "execute_result"
    }
   ],
   "source": [
    "y_train.shape"
   ]
  },
  {
   "cell_type": "code",
   "execution_count": 32,
   "id": "79794760-175f-458e-b941-d1d18e84eb14",
   "metadata": {},
   "outputs": [
    {
     "data": {
      "text/plain": [
       "(2000,)"
      ]
     },
     "execution_count": 32,
     "metadata": {},
     "output_type": "execute_result"
    }
   ],
   "source": [
    "y_test.shape"
   ]
  },
  {
   "cell_type": "code",
   "execution_count": 33,
   "id": "32d0416c-c051-435f-ac58-1f0983fabbad",
   "metadata": {},
   "outputs": [
    {
     "data": {
      "text/plain": [
       "['CreditScore',\n",
       " 'Age',\n",
       " 'Tenure',\n",
       " 'Balance',\n",
       " 'NumOfProducts',\n",
       " 'HasCrCard',\n",
       " 'IsActiveMember',\n",
       " 'EstimatedSalary',\n",
       " 'Gender_M',\n",
       " 'Geography_Germany',\n",
       " 'Geography_Spain']"
      ]
     },
     "execution_count": 33,
     "metadata": {},
     "output_type": "execute_result"
    }
   ],
   "source": [
    "X_train.columns.tolist()"
   ]
  },
  {
   "cell_type": "code",
   "execution_count": 34,
   "id": "f53ebae9-4919-4967-91c7-d5c54ee7aada",
   "metadata": {},
   "outputs": [
    {
     "data": {
      "text/plain": [
       "['CreditScore',\n",
       " 'Age',\n",
       " 'Tenure',\n",
       " 'Balance',\n",
       " 'NumOfProducts',\n",
       " 'HasCrCard',\n",
       " 'IsActiveMember',\n",
       " 'EstimatedSalary',\n",
       " 'Gender_M',\n",
       " 'Geography_Germany',\n",
       " 'Geography_Spain']"
      ]
     },
     "execution_count": 34,
     "metadata": {},
     "output_type": "execute_result"
    }
   ],
   "source": [
    "X_test.columns.tolist()"
   ]
  },
  {
   "cell_type": "code",
   "execution_count": 35,
   "id": "6e7c6773-5b12-4e4e-8c48-574047e13815",
   "metadata": {},
   "outputs": [
    {
     "data": {
      "text/plain": [
       "8000"
      ]
     },
     "execution_count": 35,
     "metadata": {},
     "output_type": "execute_result"
    }
   ],
   "source": [
    "len(X_train)"
   ]
  },
  {
   "cell_type": "code",
   "execution_count": 36,
   "id": "3d20b532-2079-4afc-8bfa-d586d9424136",
   "metadata": {},
   "outputs": [
    {
     "data": {
      "text/plain": [
       "2000"
      ]
     },
     "execution_count": 36,
     "metadata": {},
     "output_type": "execute_result"
    }
   ],
   "source": [
    "len(X_test)"
   ]
  },
  {
   "cell_type": "code",
   "execution_count": 37,
   "id": "5a5580c9-5b59-4b16-b61e-f0b42ff942a3",
   "metadata": {},
   "outputs": [
    {
     "data": {
      "text/plain": [
       "8000"
      ]
     },
     "execution_count": 37,
     "metadata": {},
     "output_type": "execute_result"
    }
   ],
   "source": [
    "len(y_train)"
   ]
  },
  {
   "cell_type": "code",
   "execution_count": 38,
   "id": "c57f5a0c-580d-470b-970c-0cc4f894953b",
   "metadata": {},
   "outputs": [
    {
     "data": {
      "text/plain": [
       "2000"
      ]
     },
     "execution_count": 38,
     "metadata": {},
     "output_type": "execute_result"
    }
   ],
   "source": [
    "len(y_test)"
   ]
  },
  {
   "cell_type": "code",
   "execution_count": 39,
   "id": "bf88db30-c083-4eb8-98aa-6d89f2ba9ee8",
   "metadata": {},
   "outputs": [
    {
     "data": {
      "text/plain": [
       "11"
      ]
     },
     "execution_count": 39,
     "metadata": {},
     "output_type": "execute_result"
    }
   ],
   "source": [
    "len(X_train.columns)"
   ]
  },
  {
   "cell_type": "code",
   "execution_count": 40,
   "id": "b7bc8dcf-e1c8-47b9-89cf-219b148e5976",
   "metadata": {},
   "outputs": [
    {
     "name": "stderr",
     "output_type": "stream",
     "text": [
      "C:\\Users\\PC\\AppData\\Local\\Programs\\Python\\Python312\\Lib\\site-packages\\keras\\src\\layers\\core\\dense.py:92: UserWarning: Do not pass an `input_shape`/`input_dim` argument to a layer. When using Sequential models, prefer using an `Input(shape)` object as the first layer in the model instead.\n",
      "  super().__init__(activity_regularizer=activity_regularizer, **kwargs)\n"
     ]
    },
    {
     "name": "stdout",
     "output_type": "stream",
     "text": [
      "Neural Network Model Training Complete.\n"
     ]
    }
   ],
   "source": [
    "model_nn = keras.Sequential([\n",
    "    keras.layers.Dense(20, input_shape=(len(X_train.columns),), activation='relu'),\n",
    "    keras.layers.Dense(1, activation='sigmoid'),\n",
    "])\n",
    "\n",
    "model_nn.compile(optimizer='adam',\n",
    "              loss='binary_crossentropy',\n",
    "              metrics=['accuracy'])\n",
    "\n",
    "model_nn.fit(X_train, y_train, epochs=100, verbose=0)\n",
    "print(\"Neural Network Model Training Complete.\")"
   ]
  },
  {
   "cell_type": "code",
   "execution_count": 41,
   "id": "a8563459-1ab2-4bb1-a983-30589e20e3bf",
   "metadata": {},
   "outputs": [
    {
     "name": "stdout",
     "output_type": "stream",
     "text": [
      "Neural Network Model Loss on Test Set: 0.3349\n",
      "Neural Network Model Accuracy on Test Set: 0.8665\n"
     ]
    }
   ],
   "source": [
    "loss_nn, accuracy_nn = model_nn.evaluate(X_test, y_test, verbose=0)\n",
    "print(f\"Neural Network Model Loss on Test Set: {loss_nn:.4f}\")\n",
    "print(f\"Neural Network Model Accuracy on Test Set: {accuracy_nn:.4f}\")"
   ]
  },
  {
   "cell_type": "code",
   "execution_count": 42,
   "id": "a3468cb8-8408-4ec3-bb54-0fb4fd766364",
   "metadata": {},
   "outputs": [
    {
     "name": "stdout",
     "output_type": "stream",
     "text": [
      "\u001b[1m63/63\u001b[0m \u001b[32m━━━━━━━━━━━━━━━━━━━━\u001b[0m\u001b[37m\u001b[0m \u001b[1m1s\u001b[0m 10ms/step\n"
     ]
    }
   ],
   "source": [
    "yp_nn = model_nn.predict(X_test)\n",
    "y_pred_nn = (yp_nn > 0.5).astype(int)"
   ]
  },
  {
   "cell_type": "code",
   "execution_count": 43,
   "id": "11439590-3d3f-4bd8-a295-6ae0051cad6d",
   "metadata": {},
   "outputs": [
    {
     "name": "stdout",
     "output_type": "stream",
     "text": [
      "              precision    recall  f1-score   support\n",
      "\n",
      "           0       0.88      0.97      0.92      1593\n",
      "           1       0.79      0.47      0.59       407\n",
      "\n",
      "    accuracy                           0.87      2000\n",
      "   macro avg       0.83      0.72      0.76      2000\n",
      "weighted avg       0.86      0.87      0.85      2000\n",
      "\n"
     ]
    }
   ],
   "source": [
    "print(classification_report(y_test, y_pred_nn))"
   ]
  },
  {
   "cell_type": "code",
   "execution_count": 44,
   "id": "b0ebd8af-5024-4226-883e-6d2172625395",
   "metadata": {},
   "outputs": [],
   "source": [
    "cm_nn = tf.math.confusion_matrix(labels=y_test, predictions=y_pred_nn)"
   ]
  },
  {
   "cell_type": "code",
   "execution_count": 45,
   "id": "7ea9a4b2-184d-4313-82a9-7502e90047b2",
   "metadata": {},
   "outputs": [
    {
     "data": {
      "image/png": "[encoded data removed]",
      "text/plain": [
       "<Figure size 1000x700 with 2 Axes>"
      ]
     },
     "metadata": {},
     "output_type": "display_data"
    }
   ],
   "source": [
    "plt.figure(figsize = (10,7))\n",
    "sn.heatmap(cm_nn, annot=True, fmt='d', cmap='Blues')\n",
    "plt.xlabel('Predicted')\n",
    "plt.ylabel('Truth')\n",
    "plt.title('Neural Network Confusion Matrix')\n",
    "plt.show()"
   ]
  },
  {
   "cell_type": "code",
   "execution_count": 46,
   "id": "8971df49-ece6-4c28-ab88-00af8ce95b9f",
   "metadata": {},
   "outputs": [
    {
     "name": "stdout",
     "output_type": "stream",
     "text": [
      "\n",
      "Neural Network Overall Accuracy: 0.8665\n",
      "Neural Network Precision (Class 0 - Not Exited): 0.8776\n",
      "Neural Network Precision (Class 1 - Exited): 0.7869\n",
      "Neural Network Recall (Class 0 - Not Exited): 0.9674\n",
      "Neural Network Recall (Class 1 - Exited): 0.4717\n"
     ]
    }
   ],
   "source": [
    "overall_accuracy_nn = accuracy_score(y_test, y_pred_nn)\n",
    "precision_class_1_nn = precision_score(y_test, y_pred_nn, pos_label=1)\n",
    "recall_class_1_nn = recall_score(y_test, y_pred_nn, pos_label=1)\n",
    "precision_class_0_nn = precision_score(y_test, y_pred_nn, pos_label=0)\n",
    "recall_class_0_nn = recall_score(y_test, y_pred_nn, pos_label=0)\n",
    "\n",
    "print(f\"\\nNeural Network Overall Accuracy: {overall_accuracy_nn:.4f}\")\n",
    "print(f\"Neural Network Precision (Class 0 - Not Exited): {precision_class_0_nn:.4f}\")\n",
    "print(f\"Neural Network Precision (Class 1 - Exited): {precision_class_1_nn:.4f}\")\n",
    "print(f\"Neural Network Recall (Class 0 - Not Exited): {recall_class_0_nn:.4f}\")\n",
    "print(f\"Neural Network Recall (Class 1 - Exited): {recall_class_1_nn:.4f}\")"
   ]
  },
  {
   "cell_type": "code",
   "execution_count": 47,
   "id": "d18195ef-2fc4-4aff-856b-37779e43eab6",
   "metadata": {},
   "outputs": [
    {
     "name": "stdout",
     "output_type": "stream",
     "text": [
      "Logistic Regression Model Training Complete.\n"
     ]
    }
   ],
   "source": [
    "model_lr = LogisticRegression(random_state=42, solver='liblinear')\n",
    "model_lr.fit(X_train, y_train)\n",
    "print(\"Logistic Regression Model Training Complete.\")"
   ]
  },
  {
   "cell_type": "code",
   "execution_count": 48,
   "id": "135029dd-fe92-4314-9ae8-051193c8c93c",
   "metadata": {},
   "outputs": [],
   "source": [
    "y_pred_lr = model_lr.predict(X_test)"
   ]
  },
  {
   "cell_type": "code",
   "execution_count": 49,
   "id": "31c4ce3b-6be3-448f-83b6-0a8e4b706a02",
   "metadata": {},
   "outputs": [
    {
     "name": "stdout",
     "output_type": "stream",
     "text": [
      "              precision    recall  f1-score   support\n",
      "\n",
      "           0       0.82      0.97      0.89      1593\n",
      "           1       0.61      0.18      0.28       407\n",
      "\n",
      "    accuracy                           0.81      2000\n",
      "   macro avg       0.71      0.58      0.59      2000\n",
      "weighted avg       0.78      0.81      0.77      2000\n",
      "\n"
     ]
    }
   ],
   "source": [
    "print(classification_report(y_test, y_pred_lr))"
   ]
  },
  {
   "cell_type": "code",
   "execution_count": 50,
   "id": "958acc08-feeb-4958-b1ae-01669f689e38",
   "metadata": {},
   "outputs": [
    {
     "data": {
      "image/png": "[encoded data removed]",
      "text/plain": [
       "<Figure size 1000x700 with 2 Axes>"
      ]
     },
     "metadata": {},
     "output_type": "display_data"
    }
   ],
   "source": [
    "cm_lr = confusion_matrix(y_test, y_pred_lr)\n",
    "\n",
    "plt.figure(figsize = (10,7))\n",
    "sn.heatmap(cm_lr, annot=True, fmt='d', cmap='Blues')\n",
    "plt.xlabel('Predicted')\n",
    "plt.ylabel('Truth')\n",
    "plt.title('Logistic Regression Confusion Matrix')\n",
    "plt.show()"
   ]
  },
  {
   "cell_type": "code",
   "execution_count": 51,
   "id": "1c8eca67-5bf2-4bb1-b2b5-a6f15fe1f8ea",
   "metadata": {},
   "outputs": [
    {
     "name": "stdout",
     "output_type": "stream",
     "text": [
      "\n",
      "Logistic Regression Overall Accuracy: 0.8095\n",
      "Logistic Regression Precision (Class 0 - Not Exited): 0.8227\n",
      "Logistic Regression Precision (Class 1 - Exited): 0.6066\n",
      "Logistic Regression Recall (Class 0 - Not Exited): 0.9699\n",
      "Logistic Regression Recall (Class 1 - Exited): 0.1818\n"
     ]
    }
   ],
   "source": [
    "overall_accuracy_lr = accuracy_score(y_test, y_pred_lr)\n",
    "precision_class_1_lr = precision_score(y_test, y_pred_lr, pos_label=1)\n",
    "recall_class_1_lr = recall_score(y_test, y_pred_lr, pos_label=1)\n",
    "precision_class_0_lr = precision_score(y_test, y_pred_lr, pos_label=0)\n",
    "recall_class_0_lr = recall_score(y_test, y_pred_lr, pos_label=0)\n",
    "\n",
    "print(f\"\\nLogistic Regression Overall Accuracy: {overall_accuracy_lr:.4f}\")\n",
    "print(f\"Logistic Regression Precision (Class 0 - Not Exited): {precision_class_0_lr:.4f}\")\n",
    "print(f\"Logistic Regression Precision (Class 1 - Exited): {precision_class_1_lr:.4f}\")\n",
    "print(f\"Logistic Regression Recall (Class 0 - Not Exited): {recall_class_0_lr:.4f}\")\n",
    "print(f\"Logistic Regression Recall (Class 1 - Exited): {recall_class_1_lr:.4f}\")"
   ]
  },
  {
   "cell_type": "code",
   "execution_count": 52,
   "id": "59a25d19-ea62-4851-829f-5fd0b63638f9",
   "metadata": {},
   "outputs": [
    {
     "name": "stdout",
     "output_type": "stream",
     "text": [
      "Random Forest Model Training Complete.\n"
     ]
    }
   ],
   "source": [
    "model_rf = RandomForestClassifier(n_estimators=100, random_state=42)\n",
    "model_rf.fit(X_train, y_train)\n",
    "print(\"Random Forest Model Training Complete.\")"
   ]
  },
  {
   "cell_type": "code",
   "execution_count": 53,
   "id": "a425af20-7a07-489b-933e-519ce120f4cd",
   "metadata": {},
   "outputs": [],
   "source": [
    "y_pred_rf = model_rf.predict(X_test)"
   ]
  },
  {
   "cell_type": "code",
   "execution_count": 54,
   "id": "af33e97b-8563-41b4-b457-cf6e63207213",
   "metadata": {},
   "outputs": [
    {
     "name": "stdout",
     "output_type": "stream",
     "text": [
      "              precision    recall  f1-score   support\n",
      "\n",
      "           0       0.88      0.97      0.92      1593\n",
      "           1       0.78      0.47      0.58       407\n",
      "\n",
      "    accuracy                           0.86      2000\n",
      "   macro avg       0.83      0.72      0.75      2000\n",
      "weighted avg       0.86      0.86      0.85      2000\n",
      "\n"
     ]
    }
   ],
   "source": [
    "print(classification_report(y_test, y_pred_rf))"
   ]
  },
  {
   "cell_type": "code",
   "execution_count": 55,
   "id": "93ba716c-124f-46d5-a425-022d8c2df431",
   "metadata": {},
   "outputs": [
    {
     "data": {
      "image/png": "[encoded data removed]",
      "text/plain": [
       "<Figure size 1000x700 with 2 Axes>"
      ]
     },
     "metadata": {},
     "output_type": "display_data"
    }
   ],
   "source": [
    "cm_rf = confusion_matrix(y_test, y_pred_rf)\n",
    "\n",
    "plt.figure(figsize = (10,7))\n",
    "sn.heatmap(cm_rf, annot=True, fmt='d', cmap='Blues')\n",
    "plt.xlabel('Predicted')\n",
    "plt.ylabel('Truth')\n",
    "plt.title('Random Forest Confusion Matrix')\n",
    "plt.show()"
   ]
  },
  {
   "cell_type": "code",
   "execution_count": 56,
   "id": "bef3f8bd-d2b5-4cde-9b1a-1900ce3c0838",
   "metadata": {},
   "outputs": [
    {
     "name": "stdout",
     "output_type": "stream",
     "text": [
      "\n",
      "Random Forest Overall Accuracy: 0.8650\n",
      "Random Forest Precision (Class 0 - Not Exited): 0.8765\n",
      "Random Forest Precision (Class 1 - Exited): 0.7819\n",
      "Random Forest Recall (Class 0 - Not Exited): 0.9667\n",
      "Random Forest Recall (Class 1 - Exited): 0.4668\n"
     ]
    }
   ],
   "source": [
    "overall_accuracy_rf = accuracy_score(y_test, y_pred_rf)\n",
    "precision_class_1_rf = precision_score(y_test, y_pred_rf, pos_label=1)\n",
    "recall_class_1_rf = recall_score(y_test, y_pred_rf, pos_label=1)\n",
    "precision_class_0_rf = precision_score(y_test, y_pred_rf, pos_label=0)\n",
    "recall_class_0_rf = recall_score(y_test, y_pred_rf, pos_label=0)\n",
    "\n",
    "print(f\"\\nRandom Forest Overall Accuracy: {overall_accuracy_rf:.4f}\")\n",
    "print(f\"Random Forest Precision (Class 0 - Not Exited): {precision_class_0_rf:.4f}\")\n",
    "print(f\"Random Forest Precision (Class 1 - Exited): {precision_class_1_rf:.4f}\")\n",
    "print(f\"Random Forest Recall (Class 0 - Not Exited): {recall_class_0_rf:.4f}\")\n",
    "print(f\"Random Forest Recall (Class 1 - Exited): {recall_class_1_rf:.4f}\")"
   ]
  },
  {
   "cell_type": "code",
   "execution_count": 57,
   "id": "77650c32-e11c-4aa7-9065-aceefb287f74",
   "metadata": {},
   "outputs": [
    {
     "name": "stdout",
     "output_type": "stream",
     "text": [
      "Sample Customer Features:\n",
      "      CreditScore       Age  Tenure  Balance  NumOfProducts  HasCrCard  IsActiveMember  EstimatedSalary  Gender_M  Geography_Germany  Geography_Spain\n",
      "5702         0.47  0.243243     0.7      0.0       0.333333        1.0             0.0         0.471403       1.0                0.0              0.0\n",
      "\n",
      "True Churn Status: 0\n",
      "Random Forest Predicted Churn Status: 0\n",
      "Random Forest Predicted Churn Probability: 0.0600\n"
     ]
    }
   ],
   "source": [
    "sample_customer_data = X_test.iloc[0:1]\n",
    "true_label = y_test.iloc[0]\n",
    "\n",
    "predicted_churn_rf = model_rf.predict(sample_customer_data)\n",
    "predicted_churn_proba_rf = model_rf.predict_proba(sample_customer_data)[:, 1]\n",
    "\n",
    "print(f\"Sample Customer Features:\\n{sample_customer_data.to_string()}\")\n",
    "print(f\"\\nTrue Churn Status: {true_label}\")\n",
    "print(f\"Random Forest Predicted Churn Status: {predicted_churn_rf[0]}\")\n",
    "print(f\"Random Forest Predicted Churn Probability: {predicted_churn_proba_rf[0]:.4f}\")"
   ]
  },
  {
   "cell_type": "code",
   "execution_count": 58,
   "id": "bb58633e-b4f9-41b8-9bfa-0f6906d6131d",
   "metadata": {},
   "outputs": [],
   "source": [
    "import pickle"
   ]
  },
  {
   "cell_type": "code",
   "execution_count": 59,
   "id": "624e5229-bdb0-4ce4-92f0-b7b1801dd0d4",
   "metadata": {},
   "outputs": [
    {
     "name": "stdout",
     "output_type": "stream",
     "text": [
      "MinMaxScaler saved as min_max_scaler.pkl\n"
     ]
    }
   ],
   "source": [
    "with open('min_max_scaler.pkl', 'wb') as f:\n",
    "    pickle.dump(scaler_minmax, f)\n",
    "print(\"MinMaxScaler saved as min_max_scaler.pkl\")"
   ]
  },
  {
   "cell_type": "code",
   "execution_count": 60,
   "id": "6ebae71b-af3a-4dcd-b9a0-84bf9c608cbf",
   "metadata": {},
   "outputs": [
    {
     "name": "stdout",
     "output_type": "stream",
     "text": [
      "Logistic Regression model saved as logistic_regression_model.pkl\n"
     ]
    }
   ],
   "source": [
    "with open('logistic_regression_model.pkl', 'wb') as f:\n",
    "    pickle.dump(model_lr, f)\n",
    "print(\"Logistic Regression model saved as logistic_regression_model.pkl\")"
   ]
  },
  {
   "cell_type": "code",
   "execution_count": 61,
   "id": "62301c2f-c129-45fd-a542-978d91e25aa8",
   "metadata": {},
   "outputs": [
    {
     "name": "stdout",
     "output_type": "stream",
     "text": [
      "Random Forest model saved as random_forest_model.pkl\n"
     ]
    }
   ],
   "source": [
    "with open('random_forest_model.pkl', 'wb') as f:\n",
    "    pickle.dump(model_rf, f)\n",
    "print(\"Random Forest model saved as random_forest_model.pkl\")"
   ]
  },
  {
   "cell_type": "code",
   "execution_count": 62,
   "id": "1b7a52a2-aca3-4a92-ab88-beab08fa217c",
   "metadata": {},
   "outputs": [
    {
     "name": "stderr",
     "output_type": "stream",
     "text": [
      "WARNING:absl:You are saving your model as an HDF5 file via `model.save()` or `keras.saving.save_model(model)`. This file format is considered legacy. We recommend using instead the native Keras format, e.g. `model.save('my_model.keras')` or `keras.saving.save_model(model, 'my_model.keras')`. \n"
     ]
    },
    {
     "name": "stdout",
     "output_type": "stream",
     "text": [
      "Neural Network model saved as neural_network_model.h5\n",
      "\n",
      "All necessary models and scaler have been saved.\n"
     ]
    }
   ],
   "source": [
    "model_nn.save('neural_network_model.h5')\n",
    "print(\"Neural Network model saved as neural_network_model.h5\")\n",
    "\n",
    "print(\"\\nAll necessary models and scaler have been saved.\")"
   ]
  },
  {
   "cell_type": "code",
   "execution_count": null,
   "id": "17a1f9af-2e3b-4b98-8afe-9963a1e20989",
   "metadata": {},
   "outputs": [],
   "source": []
  }
 ],
 "metadata": {
  "kernelspec": {
   "display_name": "Python 3 (ipykernel)",
   "language": "python",
   "name": "python3"
  },
  "language_info": {
   "codemirror_mode": {
    "name": "ipython",
    "version": 3
   },
   "file_extension": ".py",
   "mimetype": "text/x-python",
   "name": "python",
   "nbconvert_exporter": "python",
   "pygments_lexer": "ipython3",
   "version": "3.12.3"
  }
 },
 "nbformat": 4,
 "nbformat_minor": 5
}
